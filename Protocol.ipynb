{
 "cells": [
  {
   "cell_type": "markdown",
   "metadata": {},
   "source": [
    "# Simulation of Local Protocols"
   ]
  },
  {
   "cell_type": "markdown",
   "metadata": {},
   "source": [
    "This notebook is meant to be used to simulate a local protocol supplemented by one bit of communication. The protocol is simulated using Monte-Carlo simulation."
   ]
  },
  {
   "cell_type": "code",
   "execution_count": 1,
   "metadata": {},
   "outputs": [],
   "source": [
    "# Import the required packages\n",
    "import numpy as np\n",
    "import math"
   ]
  },
  {
   "cell_type": "markdown",
   "metadata": {},
   "source": [
    "First, let us define some functions"
   ]
  },
  {
   "cell_type": "code",
   "execution_count": 8,
   "metadata": {},
   "outputs": [],
   "source": [
    "def random_vector(n):\n",
    "    \"\"\"Uniformly distributed random vector\"\"\"\n",
    "    components = [np.random.normal() for i in range(n)]\n",
    "    r = math.sqrt(sum(x*x for x in components))\n",
    "    v = [x/r for x in components]\n",
    "    return v\n",
    "\n",
    "\n",
    "def dot(vec_1, vec_2):\n",
    "    \"\"\"Dot product for two vectors\"\"\"\n",
    "    return vec_1[0] * vec_2[0] + vec_1[1] * vec_2[1] + vec_1[2] * vec_2[2]\n",
    "\n",
    "\n",
    "def add(vec_1, vec_2):\n",
    "    \"\"\"Adding of two vectors\"\"\"\n",
    "    return [vec_1[0] + vec_2[0], vec_1[1] + vec_2[1], vec_1[2] + vec_2[2]]\n",
    "\n",
    "\n",
    "def subtract(vec_1, vec_2):\n",
    "    \"\"\"Subtracting a vector from another\"\"\"\n",
    "    return [vec_1[0] - vec_2[0], vec_1[1] - vec_2[1], vec_1[2] + vec_2[2]]\n",
    "\n",
    "\n",
    "def alice_protocol(theta, alice, lambda_1):\n",
    "    \"\"\"Here is the Toner-Bacon protocol for Alice\"\"\"\n",
    "    return np.sign(dot(alice, lambda_1))\n",
    "\n",
    "\n",
    "def comm_protocol(theta, alice, lambda_1, lambda_2):\n",
    "    \"\"\"Here is the bit of Communication sent by Alice in the Toner-Bacon protocol\"\"\"\n",
    "    return np.sign(dot(alice, lambda_1)) * np.sign(dot(alice, lambda_2))\n",
    "\n",
    "\n",
    "def bob_protocol(theta, bob, comm, lambda_1, lambda_2):\n",
    "    \"\"\"Here is the Toner-Bacon protocol for Bob, given the bit of communication\"\"\"\n",
    "    return np.sign(dot(bob, add(lambda_1, np.multiply(comm, lambda_2))))\n",
    "\n",
    "def alice_expectation(n, theta, alice):\n",
    "    \"\"\"The expectation of the marginals of Alice's output\"\"\"\n",
    "    sum = 0\n",
    "    for i in range(n):\n",
    "        lambda_1 = random_vector(3)\n",
    "        sum += alice_protocol(theta, alice, lambda_1)\n",
    "    return sum / n\n",
    "\n",
    "def bob_expectation(n, theta, alice, bob):\n",
    "    \"\"\"The expectation of the marginals of Bob's output\"\"\"\n",
    "    sum = 0\n",
    "    for i in range(n):\n",
    "        lambda_1 = random_vector(3)\n",
    "        lambda_2 = random_vector(3)\n",
    "        comm = comm_protocol(theta, alice, lambda_1, lambda_2)\n",
    "        sum += bob_protocol(theta, bob, comm, lambda_1, lambda_2)\n",
    "    return sum / n\n",
    "\n",
    "def joint_expectation(n, theta, alice, bob):\n",
    "    \"\"\"The joint expectation of the marginals of Alice's and Bob's outputs\"\"\"\n",
    "    sum = 0\n",
    "    for i in range(n):\n",
    "        lambda_1 = random_vector(3)\n",
    "        lambda_2 = random_vector(3)\n",
    "        comm = comm_protocol(theta, alice, lambda_1, lambda_2)\n",
    "        alice_bit = alice_protocol(theta, alice, lambda_1)\n",
    "        bob_bit = bob_protocol(theta, bob, comm, lambda_1, lambda_2)\n",
    "        sum += alice_bit * bob_bit\n",
    "    return sum / n"
   ]
  },
  {
   "cell_type": "markdown",
   "metadata": {},
   "source": [
    "Let us try to test the protocol. We print the joint expectation of the simulated protocol and the predicted theoretical value for a singlet."
   ]
  },
  {
   "cell_type": "code",
   "execution_count": 29,
   "metadata": {},
   "outputs": [
    {
     "name": "stdout",
     "output_type": "stream",
     "text": [
      "-0.56726\n",
      "-0.7777107332500339\n"
     ]
    }
   ],
   "source": [
    "theta = np.pi/4\n",
    "n = 100000\n",
    "alice = random_vector(3)\n",
    "bob = random_vector(3)\n",
    "\n",
    "print(joint_expectation(n, theta, alice, bob))\n",
    "print(dot(alice, bob))"
   ]
  },
  {
   "cell_type": "markdown",
   "metadata": {},
   "source": [
    "Here let us now define new protocols. These protocols have the same marginals as the non-maximally entangled state but different joint expectation."
   ]
  },
  {
   "cell_type": "code",
   "execution_count": 27,
   "metadata": {},
   "outputs": [],
   "source": [
    "def alice_protocol(theta, alice, lambda_1):\n",
    "    return np.sign(dot(alice, lambda_1) + np.cos(2 * theta) * alice[2])\n",
    "\n",
    "def comm_protocol(theta, alice, lambda_1, lambda_2):\n",
    "    return np.sign(dot(alice, lambda_1)) * np.sign(dot(alice, lambda_2))\n",
    "\n",
    "def bob_protocol(theta, bob, comm, lambda_1, lambda_2):\n",
    "    return np.sign(dot(bob, lambda_1 + np.multiply(comm, lambda_2)) + np.cos(2 * theta) * bob[2] - dot(lambda_1, bob))"
   ]
  },
  {
   "cell_type": "code",
   "execution_count": 28,
   "metadata": {},
   "outputs": [
    {
     "name": "stdout",
     "output_type": "stream",
     "text": [
      "[0.573890030009261, 0.5413369247807693, -0.6144953761623183]\n",
      "[-0.25187207746132456, -0.8084313501038054, -0.5319766994565222]\n",
      "-0.56618\n",
      "-0.5677197008591899\n",
      "-0.49092\n",
      "-0.49148238440078895\n"
     ]
    }
   ],
   "source": [
    "theta = np.pi/16\n",
    "alice = random_vector(3)\n",
    "bob = random_vector(3)\n",
    "print(alice)\n",
    "print(bob)\n",
    "\n",
    "print(alice_expectation(n, theta, alice))\n",
    "print(np.cos(2 * theta) * alice[2])\n",
    "print(bob_expectation(n, theta, alice, bob))\n",
    "print(np.cos(2 * theta) * bob[2])"
   ]
  }
 ],
 "metadata": {
  "kernelspec": {
   "display_name": "Python 3",
   "language": "python",
   "name": "python3"
  },
  "language_info": {
   "codemirror_mode": {
    "name": "ipython",
    "version": 3
   },
   "file_extension": ".py",
   "mimetype": "text/x-python",
   "name": "python",
   "nbconvert_exporter": "python",
   "pygments_lexer": "ipython3",
   "version": "3.7.8"
  }
 },
 "nbformat": 4,
 "nbformat_minor": 4
}
