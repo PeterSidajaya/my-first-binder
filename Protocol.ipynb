{
 "cells": [
  {
   "cell_type": "markdown",
   "metadata": {},
   "source": [
    "# Simulation of Local Protocols"
   ]
  },
  {
   "cell_type": "markdown",
   "metadata": {},
   "source": [
    "This notebook is meant to be used to simulate a local protocol supplemented by one bit of communication. The protocol is simulated using Monte-Carlo simulation."
   ]
  },
  {
   "cell_type": "code",
   "execution_count": 1,
   "metadata": {},
   "outputs": [],
   "source": [
    "# Import the required packages\n",
    "import numpy as np\n",
    "import math\n",
    "from numpy.random import default_rng\n",
    "rng = default_rng()"
   ]
  },
  {
   "cell_type": "markdown",
   "metadata": {},
   "source": [
    "First, let us define some functions"
   ]
  },
  {
   "cell_type": "code",
   "execution_count": 2,
   "metadata": {},
   "outputs": [],
   "source": [
    "def random_vector(n):\n",
    "    \"\"\"Generate an uniformly distributed random vector.\"\"\"\n",
    "    components = [rng.standard_normal() for i in range(n)]\n",
    "    r = math.sqrt(sum(x*x for x in components))\n",
    "    v = np.array([x/r for x in components])\n",
    "    return v\n",
    "\n",
    "\n",
    "def dot(vec_1, vec_2):\n",
    "    \"\"\"Dot product for two vectors.\"\"\"\n",
    "    return vec_1[0] * vec_2[0] + vec_1[1] * vec_2[1] + vec_1[2] * vec_2[2]\n",
    "\n",
    "\n",
    "def outer_product(vec_1, vec_2):\n",
    "    \"\"\"Do an outer product then flatten the vector. Used for mixing the probabilities.\"\"\"\n",
    "    return np.outer(vec_1, vec_2).flatten()"
   ]
  },
  {
   "cell_type": "markdown",
   "metadata": {},
   "source": [
    "Now we define the functions that act as the protocols"
   ]
  },
  {
   "cell_type": "code",
   "execution_count": 3,
   "metadata": {},
   "outputs": [],
   "source": [
    "def alice_protocol_1(vec_alice, lhv):\n",
    "    \"\"\"First protocol of Alice. Output is in the form of (P(A=+1), P(A=-1))\"\"\"\n",
    "    prob = 1/2 - 1/2 * np.sign(dot(vec_alice, lhv[0]))\n",
    "    return np.array([prob, 1-prob])\n",
    "\n",
    "\n",
    "def alice_protocol_2(vec_alice, lhv):\n",
    "    \"\"\"Second protocol of Alice. Output is in the form of (P(A=+1), P(A=-1))\"\"\"\n",
    "    return alice_protocol_1(vec_alice, lhv)\n",
    "\n",
    "\n",
    "def bob_protocol_1(vec_bob, lhv):\n",
    "    \"\"\"First protocol of Bob. Output is in the form of (P(A=+1), P(A=-1))\"\"\"\n",
    "    prob = 1/2 + 1/2 * np.sign(dot(vec_bob, lhv[0] - lhv[1]))\n",
    "    return np.array([prob, 1-prob])\n",
    "\n",
    "\n",
    "def bob_protocol_2(vec_bob, lhv):\n",
    "    \"\"\"Second protocol of Bob. Output is in the form of (P(A=+1), P(A=-1))\"\"\"\n",
    "    prob = 1/2 + 1/2 * np.sign(dot(vec_bob, lhv[0] + lhv[1]))\n",
    "    return np.array([prob, 1-prob])\n",
    "\n",
    "\n",
    "def comm_protocol(vec_alice, lhv):\n",
    "    \"\"\"Protocol for the communication bit. The output is the probability of choosing the first protocols.\"\"\"\n",
    "    return 1/2 - 1/2 * np.sign(dot(vec_alice, lhv[0])) * np.sign(dot(vec_alice, lhv[1]))"
   ]
  },
  {
   "cell_type": "markdown",
   "metadata": {},
   "source": [
    "The following codes are to show how the outer product works"
   ]
  },
  {
   "cell_type": "code",
   "execution_count": 4,
   "metadata": {},
   "outputs": [
    {
     "name": "stdout",
     "output_type": "stream",
     "text": [
      "[0.03 0.07 0.27 0.63]\n"
     ]
    }
   ],
   "source": [
    "alice = np.array([0.1, 0.9]) # -> P(+1), P(-1)\n",
    "bob = np.array([0.3, 0.7]) # -> P(+1), P(-1)\n",
    "\n",
    "print(outer_product(alice, bob))\n",
    "# output is in the form of P(AB) -> (P(+1+1), P(+1-1), P(-1+1), P(-1-1))"
   ]
  },
  {
   "cell_type": "markdown",
   "metadata": {},
   "source": [
    "Now we define the functions that calculate the probability from the protocols"
   ]
  },
  {
   "cell_type": "code",
   "execution_count": 5,
   "metadata": {},
   "outputs": [],
   "source": [
    "def probability_single_round(vec_alice, vec_bob, lhv):\n",
    "    \"\"\"Calculate the probability distribution from one round of LHV.\"\"\"\n",
    "    bit = comm_protocol(vec_alice, lhv)\n",
    "    return bit * outer_product(alice_protocol_1(vec_alice, lhv), bob_protocol_1(vec_bob, lhv)) + \\\n",
    "        (1 - bit) * outer_product(alice_protocol_2(vec_alice, lhv), bob_protocol_2(vec_bob, lhv))\n",
    "    \n",
    "    \n",
    "def probability(vec_alice, vec_bob, lhv_type=\"double-vector\", n=100000):\n",
    "    \"\"\"Calculate the probability distribution from multiple rounds of LHV.\"\"\"\n",
    "    prob = np.array([0.0, 0.0, 0.0, 0.0])\n",
    "    for i in range(n):\n",
    "        if lhv_type == \"single-vector\":\n",
    "            lhv = random_vector(3)\n",
    "        elif lhv_type == \"double-vector\":\n",
    "            lhv = (random_vector(3), random_vector(3))\n",
    "        prob += probability_single_round(vec_alice, vec_bob, lhv)\n",
    "    return prob / n"
   ]
  },
  {
   "cell_type": "markdown",
   "metadata": {},
   "source": [
    "Now let us define a function to evaluate the expectations."
   ]
  },
  {
   "cell_type": "code",
   "execution_count": 6,
   "metadata": {},
   "outputs": [],
   "source": [
    "def expectations(vec_alice, vec_bob, lhv_type=\"double-vector\", n=100000):\n",
    "    \"\"\"Print the expectations of the protocols.\"\"\"\n",
    "    prob = probability(vec_alice, vec_bob, lhv_type=lhv_type, n=n)\n",
    "    print(\"Expectation of Alice :\", prob[0] + prob[1] - prob[2] - prob[3])\n",
    "    print(\"Expectation of Bob   :\", prob[0] - prob[1] + prob[2] - prob[3])\n",
    "    print(\"Joint expectation    :\", prob[0] - prob[1] - prob[2] + prob[3])"
   ]
  },
  {
   "cell_type": "code",
   "execution_count": 7,
   "metadata": {},
   "outputs": [
    {
     "name": "stdout",
     "output_type": "stream",
     "text": [
      "-0.3002530041748922\n",
      "Expectation of Alice : 0.00024000000000001798\n",
      "Expectation of Bob   : 0.0036199999999999566\n",
      "Joint expectation    : 0.30177999999999994\n"
     ]
    }
   ],
   "source": [
    "vec_alice, vec_bob = random_vector(3), random_vector(3)\n",
    "print(dot(vec_alice, vec_bob))\n",
    "expectations(vec_alice, vec_bob)"
   ]
  },
  {
   "cell_type": "code",
   "execution_count": 8,
   "metadata": {},
   "outputs": [
    {
     "name": "stdout",
     "output_type": "stream",
     "text": [
      "Expectation of Alice : -0.0007339999999999569\n",
      "Expectation of Bob   : 2.399999999996849e-05\n",
      "Joint expectation    : 0.19470199999999996\n",
      "-0.19705858\n"
     ]
    }
   ],
   "source": [
    "a = np.array([-0.3562,-0.7127,0.6043])\n",
    "b = np.array([-0.7403,0.0806,-0.6674])\n",
    "expectations(a, b, n=1000000)\n",
    "print(dot(a, b))"
   ]
  },
  {
   "cell_type": "code",
   "execution_count": 9,
   "metadata": {},
   "outputs": [],
   "source": [
    "def normalise(vector):\n",
    "    r = math.sqrt(sum(x*x for x in vector))\n",
    "    v = np.array([x/r for x in vector])\n",
    "    return v\n",
    "\n",
    "def rotation(axis, angle):\n",
    "    axis = normalise(axis)\n",
    "    u1, u2, u3 = axis\n",
    "    r11 = np.cos(angle) + u1 ** 2 * (1 - np.cos(angle))\n",
    "    r12 = u1 * u2 * (1 - np.cos(angle)) - u3 * np.sin(angle)\n",
    "    r13 = u1 * u3 * (1 - np.cos(angle)) + u2 * np.sin(angle)\n",
    "    r21 = u2 * u1 * (1 - np.cos(angle)) + u3 * np.sin(angle)\n",
    "    r22 = np.cos(angle) + u2 ** 2 * (1 - np.cos(angle))\n",
    "    r23 = u2 * u3 * (1 - np.cos(angle)) - u1 * np.sin(angle)\n",
    "    r31 = u3 * u1 * (1 - np.cos(angle)) - u2 * np.sin(angle)\n",
    "    r32 = u3 * u2 * (1 - np.cos(angle)) + u1 * np.sin(angle)\n",
    "    r33 = np.cos(angle) + u3 ** 2 * (1 - np.cos(angle))\n",
    "    return np.array([[r11, r12, r13], [r21, r22, r23], [r31, r32, r33]])"
   ]
  },
  {
   "cell_type": "code",
   "execution_count": null,
   "metadata": {},
   "outputs": [],
   "source": []
  }
 ],
 "metadata": {
  "kernelspec": {
   "display_name": "Python 3",
   "language": "python",
   "name": "python3"
  },
  "language_info": {
   "codemirror_mode": {
    "name": "ipython",
    "version": 3
   },
   "file_extension": ".py",
   "mimetype": "text/x-python",
   "name": "python",
   "nbconvert_exporter": "python",
   "pygments_lexer": "ipython3",
   "version": "3.7.10"
  }
 },
 "nbformat": 4,
 "nbformat_minor": 4
}
