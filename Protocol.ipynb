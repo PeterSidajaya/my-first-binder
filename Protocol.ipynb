{
 "cells": [
  {
   "cell_type": "markdown",
   "metadata": {},
   "source": [
    "# Simulation of Local Protocols"
   ]
  },
  {
   "cell_type": "markdown",
   "metadata": {},
   "source": [
    "This notebook is meant to be used to simulate a local protocol supplemented by one bit of communication. The protocol is simulated using Monte-Carlo simulation."
   ]
  },
  {
   "cell_type": "code",
   "execution_count": 23,
   "metadata": {},
   "outputs": [],
   "source": [
    "# Import the required packages\n",
    "import numpy as np\n",
    "import math"
   ]
  },
  {
   "cell_type": "markdown",
   "metadata": {},
   "source": [
    "First, let us define some functions"
   ]
  },
  {
   "cell_type": "code",
   "execution_count": 24,
   "metadata": {},
   "outputs": [],
   "source": [
    "def random_vector(n):\n",
    "    \"\"\"Generate an uniformly distributed random vector.\"\"\"\n",
    "    components = [np.random.normal() for i in range(n)]\n",
    "    r = math.sqrt(sum(x*x for x in components))\n",
    "    v = np.array([x/r for x in components])\n",
    "    return v\n",
    "\n",
    "\n",
    "def dot(vec_1, vec_2):\n",
    "    \"\"\"Dot product for two vectors.\"\"\"\n",
    "    return vec_1[0] * vec_2[0] + vec_1[1] * vec_2[1] + vec_1[2] * vec_2[2]\n",
    "\n",
    "\n",
    "def outer_product(vec_1, vec_2):\n",
    "    \"\"\"Do an outer product then flatten the vector. Used for mixing the probabilities.\"\"\"\n",
    "    return np.outer(vec_1, vec_2).flatten()"
   ]
  },
  {
   "cell_type": "markdown",
   "metadata": {},
   "source": [
    "Now we define the functions that act as the protocols"
   ]
  },
  {
   "cell_type": "code",
   "execution_count": 25,
   "metadata": {},
   "outputs": [],
   "source": [
    "def alice_protocol_1(vec_alice, lhv):\n",
    "    \"\"\"First protocol of Alice. Output is in the form of (P(A=+1), P(A=-1))\"\"\"\n",
    "    prob = 1/2 - 1/2 * np.sign(dot(vec_alice, lhv[0]))\n",
    "    return np.array([prob, 1-prob])\n",
    "\n",
    "\n",
    "def alice_protocol_2(vec_alice, lhv):\n",
    "    \"\"\"Second protocol of Alice. Output is in the form of (P(A=+1), P(A=-1))\"\"\"\n",
    "    return alice_protocol_1(vec_alice, lhv)\n",
    "\n",
    "\n",
    "def bob_protocol_1(vec_bob, lhv):\n",
    "    \"\"\"First protocol of Bob. Output is in the form of (P(A=+1), P(A=-1))\"\"\"\n",
    "    prob = 1/2 + 1/2 * np.sign(dot(vec_bob, lhv[0] - lhv[1]))\n",
    "    return np.array([prob, 1-prob])\n",
    "\n",
    "\n",
    "def bob_protocol_2(vec_bob, lhv):\n",
    "    \"\"\"Second protocol of Bob. Output is in the form of (P(A=+1), P(A=-1))\"\"\"\n",
    "    prob = 1/2 + 1/2 * np.sign(dot(vec_bob, lhv[0] + lhv[1]))\n",
    "    return np.array([prob, 1-prob])\n",
    "\n",
    "\n",
    "def comm_protocol(vec_alice, lhv):\n",
    "    \"\"\"Protocol for the communication bit. The output is the probability of choosing the first protocols.\"\"\"\n",
    "    return 1/2 - 1/2 * np.sign(dot(vec_alice, lhv[0])) * np.sign(dot(vec_alice, lhv[1]))"
   ]
  },
  {
   "cell_type": "markdown",
   "metadata": {},
   "source": [
    "The following codes are to show how the outer product works"
   ]
  },
  {
   "cell_type": "code",
   "execution_count": 29,
   "metadata": {},
   "outputs": [
    {
     "name": "stdout",
     "output_type": "stream",
     "text": [
      "[0.03 0.07 0.27 0.63]\n"
     ]
    }
   ],
   "source": [
    "alice = np.array([0.1, 0.9]) # -> P(+1), P(-1)\n",
    "bob = np.array([0.3, 0.7]) # -> P(+1), P(-1)\n",
    "\n",
    "print(outer_product(alice, bob))\n",
    "# output is in the form of P(AB) -> (P(+1+1), P(+1-1), P(-1+1), P(-1-1))"
   ]
  },
  {
   "cell_type": "markdown",
   "metadata": {},
   "source": [
    "Now we define the functions that calculate the probability from the protocols"
   ]
  },
  {
   "cell_type": "code",
   "execution_count": 26,
   "metadata": {},
   "outputs": [],
   "source": [
    "def probability_single_round(vec_alice, vec_bob, lhv):\n",
    "    \"\"\"Calculate the probability distribution from one round of LHV.\"\"\"\n",
    "    bit = comm_protocol(vec_alice, lhv)\n",
    "    return bit * outer_product(alice_protocol_1(vec_alice, lhv), bob_protocol_1(vec_bob, lhv)) + \\\n",
    "        (1 - bit) * outer_product(alice_protocol_2(vec_alice, lhv), bob_protocol_2(vec_bob, lhv))\n",
    "    \n",
    "    \n",
    "def probability(vec_alice, vec_bob, lhv_type=\"double-vector\", n=10000):\n",
    "    \"\"\"Calculate the probability distribution from multiple rounds of LHV.\"\"\"\n",
    "    prob = np.array([0.0, 0.0, 0.0, 0.0])\n",
    "    for i in range(n):\n",
    "        if lhv_type == \"single-vector\":\n",
    "            lhv = random_vector(3)\n",
    "        elif lhv_type == \"double-vector\":\n",
    "            lhv = (random_vector(3), random_vector(3))\n",
    "        prob += 1/n * probability_single_round(vec_alice, vec_bob, lhv)\n",
    "    return prob"
   ]
  },
  {
   "cell_type": "code",
   "execution_count": 27,
   "metadata": {},
   "outputs": [
    {
     "data": {
      "text/plain": [
       "array([0.    , 0.5045, 0.4955, 0.    ])"
      ]
     },
     "execution_count": 27,
     "metadata": {},
     "output_type": "execute_result"
    }
   ],
   "source": [
    "probability(np.array([0, 1, 0]), np.array([0, 1, 0]))"
   ]
  },
  {
   "cell_type": "markdown",
   "metadata": {},
   "source": [
    "Now let us define a function to evaluate the expectations."
   ]
  },
  {
   "cell_type": "code",
   "execution_count": 7,
   "metadata": {},
   "outputs": [],
   "source": [
    "def expectations(vec_alice, vec_bob, lhv_type=\"double-vector\", n=10000):\n",
    "    \"\"\"Print the expectations of the protocols.\"\"\"\n",
    "    prob = probability(vec_alice, vec_bob, lhv_type=lhv_type, n=n)\n",
    "    print(\"Expectation of Alice :\", prob[0] + prob[1] - prob[2] - prob[3])\n",
    "    print(\"Expectation of Bob   :\", prob[0] - prob[1] + prob[2] - prob[3])\n",
    "    print(\"Joint expectation    :\", prob[0] - prob[1] - prob[2] + prob[3])"
   ]
  },
  {
   "cell_type": "code",
   "execution_count": 28,
   "metadata": {},
   "outputs": [
    {
     "name": "stdout",
     "output_type": "stream",
     "text": [
      "-0.8129186798114598\n",
      "Expectation of Alice : -0.010099999999998555\n",
      "Expectation of Bob   : -0.014699999999998714\n",
      "Joint expectation    : 0.8183999999999146\n"
     ]
    }
   ],
   "source": [
    "vec_alice, vec_bob = random_vector(3), random_vector(3)\n",
    "print(dot(vec_alice, vec_bob))\n",
    "expectations(vec_alice, vec_bob, n=20000)"
   ]
  },
  {
   "cell_type": "code",
   "execution_count": null,
   "metadata": {},
   "outputs": [],
   "source": []
  }
 ],
 "metadata": {
  "kernelspec": {
   "display_name": "Python 3",
   "language": "python",
   "name": "python3"
  },
  "language_info": {
   "codemirror_mode": {
    "name": "ipython",
    "version": 3
   },
   "file_extension": ".py",
   "mimetype": "text/x-python",
   "name": "python",
   "nbconvert_exporter": "python",
   "pygments_lexer": "ipython3",
   "version": "3.7.10"
  }
 },
 "nbformat": 4,
 "nbformat_minor": 4
}
